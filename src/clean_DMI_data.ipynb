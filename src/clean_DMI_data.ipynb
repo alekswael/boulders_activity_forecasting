{
 "cells": [
  {
   "cell_type": "code",
   "execution_count": 39,
   "metadata": {},
   "outputs": [],
   "source": [
    "# Import dependencies\n",
    "import os\n",
    "import numpy as np\n",
    "import pandas as pd\n",
    "import matplotlib.pyplot as plt\n",
    "from datetime import datetime"
   ]
  },
  {
   "cell_type": "code",
   "execution_count": 40,
   "metadata": {},
   "outputs": [],
   "source": [
    "# Get full file path of contents of data/dmi folder\n",
    "dmi_files = os.listdir('../data/dmi/monthly')\n",
    "dmi_files\n",
    "\n",
    "wd = os.getcwd()"
   ]
  },
  {
   "cell_type": "code",
   "execution_count": 41,
   "metadata": {},
   "outputs": [
    {
     "data": {
      "text/plain": [
       "['csv(1).csv',\n",
       " 'csv(29).csv',\n",
       " 'csv(18).csv',\n",
       " 'csv(5).csv',\n",
       " 'csv(20).csv',\n",
       " 'csv(35).csv',\n",
       " 'csv(4).csv',\n",
       " 'csv(26).csv',\n",
       " 'csv(14).csv',\n",
       " 'csv(30).csv',\n",
       " 'csv(24).csv',\n",
       " 'csv(33).csv',\n",
       " 'csv(12).csv',\n",
       " 'csv(19).csv',\n",
       " 'csv(10).csv',\n",
       " 'csv(28).csv',\n",
       " 'csv(23).csv',\n",
       " 'csv(34).csv',\n",
       " 'csv(17).csv',\n",
       " 'csv(3).csv',\n",
       " 'csv(7).csv',\n",
       " 'csv(11).csv',\n",
       " 'csv(8).csv',\n",
       " 'csv(21).csv',\n",
       " 'csv(25).csv',\n",
       " 'csv(27).csv',\n",
       " 'csv(15).csv',\n",
       " 'csv(9).csv',\n",
       " 'csv(6).csv',\n",
       " 'csv.csv',\n",
       " 'csv(2).csv',\n",
       " 'csv(22).csv',\n",
       " 'csv(13).csv',\n",
       " 'csv(31).csv',\n",
       " 'csv(32).csv',\n",
       " 'csv(16).csv']"
      ]
     },
     "execution_count": 41,
     "metadata": {},
     "output_type": "execute_result"
    }
   ],
   "source": [
    "dmi_files"
   ]
  },
  {
   "cell_type": "code",
   "execution_count": 42,
   "metadata": {},
   "outputs": [],
   "source": [
    "# Load each csv, and add to each other\n",
    "\n",
    "df = pd.DataFrame()\n",
    "\n",
    "for csv in dmi_files:\n",
    "    current_df = pd.read_csv(f\"{wd}/../data/dmi/monthly/{csv}\", sep = \";\")\n",
    "    df = pd.concat([df, current_df], ignore_index=True)"
   ]
  },
  {
   "cell_type": "code",
   "execution_count": 43,
   "metadata": {},
   "outputs": [],
   "source": [
    "# Change column names\n",
    "df = df.rename(columns={\"DateTime\": \"Timestamp\"})"
   ]
  },
  {
   "cell_type": "code",
   "execution_count": 44,
   "metadata": {},
   "outputs": [],
   "source": [
    "df[\"Timestamp\"] = pd.to_datetime(df[\"Timestamp\"], format=\"mixed\", dayfirst=False)"
   ]
  },
  {
   "cell_type": "code",
   "execution_count": 45,
   "metadata": {},
   "outputs": [],
   "source": [
    "df.sort_values(by=\"Timestamp\", inplace=True)"
   ]
  },
  {
   "cell_type": "code",
   "execution_count": 46,
   "metadata": {},
   "outputs": [],
   "source": [
    "# Save to csv\n",
    "df.to_csv(\"../data/dmi.csv\", index=False, sep=\";\")"
   ]
  }
 ],
 "metadata": {
  "kernelspec": {
   "display_name": "venv",
   "language": "python",
   "name": "python3"
  },
  "language_info": {
   "codemirror_mode": {
    "name": "ipython",
    "version": 3
   },
   "file_extension": ".py",
   "mimetype": "text/x-python",
   "name": "python",
   "nbconvert_exporter": "python",
   "pygments_lexer": "ipython3",
   "version": "3.10.12"
  }
 },
 "nbformat": 4,
 "nbformat_minor": 2
}
