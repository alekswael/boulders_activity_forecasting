{
 "cells": [
  {
   "cell_type": "code",
   "execution_count": 83,
   "metadata": {},
   "outputs": [],
   "source": [
    "# Import dependencies\n",
    "import numpy as np\n",
    "import pandas as pd\n",
    "import matplotlib.pyplot as plt\n",
    "from datetime import datetime"
   ]
  },
  {
   "cell_type": "code",
   "execution_count": 84,
   "metadata": {},
   "outputs": [],
   "source": [
    "df = pd.read_excel(\"../data/boulders/Boulders_Medlemsdata til Nynne.xlsx\")"
   ]
  },
  {
   "cell_type": "code",
   "execution_count": 85,
   "metadata": {},
   "outputs": [],
   "source": [
    "df = df.transpose()"
   ]
  },
  {
   "cell_type": "code",
   "execution_count": 86,
   "metadata": {},
   "outputs": [],
   "source": [
    "df.columns = df.iloc[0]\n",
    "df = df[1:]"
   ]
  },
  {
   "cell_type": "code",
   "execution_count": 87,
   "metadata": {},
   "outputs": [],
   "source": [
    "# Make index a column\n",
    "df.reset_index(inplace=True)"
   ]
  },
  {
   "cell_type": "code",
   "execution_count": 88,
   "metadata": {},
   "outputs": [
    {
     "data": {
      "text/plain": [
       "Index(['index', 'KBH Sydhavn', 'Aarhus Nord', 'Odense City', 'Aarhus City',\n",
       "       'KBH Valby', 'KBH Hvidovre', 'AAR Højbjerg', 'Amager', 'Alle  haller'],\n",
       "      dtype='object', name='Medlemmer/måned/hal')"
      ]
     },
     "execution_count": 88,
     "metadata": {},
     "output_type": "execute_result"
    }
   ],
   "source": [
    "df.columns"
   ]
  },
  {
   "cell_type": "code",
   "execution_count": 89,
   "metadata": {},
   "outputs": [],
   "source": [
    "df = df.rename(columns={\"index\": \"Timestamp\",\n",
    "                        \"Aarhus City\": \"Aarhus City medlemmer\",\n",
    "                        \"Aarhus Nord\": \"Aarhus Nord medlemmer\",\n",
    "                        \"AAR Højbjerg\": \"Aarhus Syd medlemmer\",\n",
    "                        \"Odense City\": \"Odense medlemmer\",\n",
    "                        \"KBH Sydhavn\": \"København Sydhavn medlemmer\",\n",
    "                        \"KBH Valby\": \"København Valby medlemmer\",\n",
    "                        \"KBH Hvidovre\": \"København Hvidovre medlemmer\",\n",
    "                        \"Amager\": \"København Amager medlemmer\",\n",
    "                        \"Alle  haller\": \"Alle haller medlemmer\"})"
   ]
  },
  {
   "cell_type": "code",
   "execution_count": 90,
   "metadata": {},
   "outputs": [
    {
     "data": {
      "text/plain": [
       "Index(['Timestamp', 'København Sydhavn medlemmer', 'Aarhus Nord medlemmer',\n",
       "       'Odense medlemmer', 'Aarhus City medlemmer',\n",
       "       'København Valby medlemmer', 'København Hvidovre medlemmer',\n",
       "       'Aarhus Syd medlemmer', 'København Amager medlemmer',\n",
       "       'Alle haller medlemmer'],\n",
       "      dtype='object', name='Medlemmer/måned/hal')"
      ]
     },
     "execution_count": 90,
     "metadata": {},
     "output_type": "execute_result"
    }
   ],
   "source": [
    "df.columns"
   ]
  },
  {
   "cell_type": "code",
   "execution_count": 91,
   "metadata": {},
   "outputs": [],
   "source": [
    "# drop index name\n",
    "df.columns.name = None"
   ]
  },
  {
   "cell_type": "code",
   "execution_count": 92,
   "metadata": {},
   "outputs": [],
   "source": [
    "df = df[3:]"
   ]
  },
  {
   "cell_type": "code",
   "execution_count": 93,
   "metadata": {},
   "outputs": [],
   "source": [
    "df[\"Timestamp\"] = pd.to_datetime(df[\"Timestamp\"])"
   ]
  },
  {
   "cell_type": "code",
   "execution_count": 94,
   "metadata": {},
   "outputs": [
    {
     "name": "stderr",
     "output_type": "stream",
     "text": [
      "/tmp/ipykernel_85381/958615284.py:2: FutureWarning: errors='ignore' is deprecated and will raise in a future version. Use to_numeric without passing `errors` and catch exceptions explicitly instead\n",
      "  df = df.apply(pd.to_numeric, errors=\"ignore\")\n"
     ]
    }
   ],
   "source": [
    "# Make all columns except Timestamp integers\n",
    "df = df.apply(pd.to_numeric, errors=\"ignore\")"
   ]
  },
  {
   "cell_type": "code",
   "execution_count": 95,
   "metadata": {},
   "outputs": [],
   "source": [
    "df[\"Timestamp\"] = pd.to_datetime(df[\"Timestamp\"])"
   ]
  },
  {
   "cell_type": "code",
   "execution_count": 96,
   "metadata": {},
   "outputs": [],
   "source": [
    "# Exlude rows before a certain date\n",
    "df = df[df[\"Timestamp\"] > \"2020-12-01\"]\n",
    "df = df[df[\"Timestamp\"] < \"2024-01-01\"]"
   ]
  },
  {
   "cell_type": "code",
   "execution_count": 97,
   "metadata": {},
   "outputs": [],
   "source": [
    "df[\"Aarhus TOTAL medlemmer\"] = df[\"Aarhus City medlemmer\"]+df[\"Aarhus Nord medlemmer\"]+df[\"Aarhus Syd medlemmer\"]"
   ]
  },
  {
   "cell_type": "code",
   "execution_count": 99,
   "metadata": {},
   "outputs": [],
   "source": [
    "# Reorder columns\n",
    "cols = df.columns.tolist()\n",
    "\n",
    "new_order = ['Timestamp',\n",
    "            'Aarhus TOTAL medlemmer',\n",
    "            'Aarhus City medlemmer',\n",
    "            'Aarhus Nord medlemmer',\n",
    "            'Aarhus Syd medlemmer',\n",
    "            'Odense medlemmer',\n",
    "            'København Sydhavn medlemmer',\n",
    "            'København Valby medlemmer',\n",
    "            'København Hvidovre medlemmer',\n",
    "            'København Amager medlemmer',\n",
    "            'Alle haller medlemmer']\n",
    "\n",
    "df = df[new_order]"
   ]
  },
  {
   "cell_type": "code",
   "execution_count": 100,
   "metadata": {},
   "outputs": [],
   "source": [
    "df = df.reset_index(drop=True)"
   ]
  },
  {
   "cell_type": "code",
   "execution_count": 101,
   "metadata": {},
   "outputs": [],
   "source": [
    "# Make all NaNs 0\n",
    "df = df.fillna(0)"
   ]
  },
  {
   "cell_type": "code",
   "execution_count": 102,
   "metadata": {},
   "outputs": [],
   "source": [
    "# Make all values ints\n",
    "df = df.astype(int)"
   ]
  },
  {
   "cell_type": "code",
   "execution_count": 103,
   "metadata": {},
   "outputs": [],
   "source": [
    "# Save to csv\n",
    "df.to_csv(\"../data/boulders/Medlemsdata_clean.csv\", index=False, sep=\";\")"
   ]
  }
 ],
 "metadata": {
  "kernelspec": {
   "display_name": "venv",
   "language": "python",
   "name": "python3"
  },
  "language_info": {
   "codemirror_mode": {
    "name": "ipython",
    "version": 3
   },
   "file_extension": ".py",
   "mimetype": "text/x-python",
   "name": "python",
   "nbconvert_exporter": "python",
   "pygments_lexer": "ipython3",
   "version": "3.10.12"
  }
 },
 "nbformat": 4,
 "nbformat_minor": 2
}
