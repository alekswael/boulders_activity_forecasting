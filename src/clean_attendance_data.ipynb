{
 "cells": [
  {
   "cell_type": "code",
   "execution_count": 1,
   "metadata": {},
   "outputs": [],
   "source": [
    "# Import dependencies\n",
    "import numpy as np\n",
    "import pandas as pd\n",
    "import matplotlib.pyplot as plt\n",
    "from datetime import datetime"
   ]
  },
  {
   "cell_type": "code",
   "execution_count": 2,
   "metadata": {},
   "outputs": [
    {
     "name": "stderr",
     "output_type": "stream",
     "text": [
      "/tmp/ipykernel_74944/2038678400.py:2: DtypeWarning: Columns (6,8) have mixed types. Specify dtype option on import or set low_memory=False.\n",
      "  df = pd.read_csv('../data/boulders/AttendanceHistorys.csv', sep=\";\")\n"
     ]
    }
   ],
   "source": [
    "# Load the data\n",
    "df = pd.read_csv('../data/boulders/AttendanceHistorys.csv', sep=\";\")"
   ]
  },
  {
   "cell_type": "code",
   "execution_count": 3,
   "metadata": {},
   "outputs": [],
   "source": [
    "# Make timestamp to datetime\n",
    "df[\"Timestamp\"] = pd.to_datetime(df[\"Timestamp\"], format=\"mixed\", dayfirst=False)"
   ]
  },
  {
   "cell_type": "code",
   "execution_count": 4,
   "metadata": {},
   "outputs": [
    {
     "data": {
      "text/plain": [
       "Timestamp\n",
       "False    859492\n",
       "Name: count, dtype: int64"
      ]
     },
     "execution_count": 4,
     "metadata": {},
     "output_type": "execute_result"
    }
   ],
   "source": [
    "# Check if all timestamps are the same format\n",
    "\n",
    "# Define your timestamp format\n",
    "timestamp_format = \"%d-%m-%Y %H:%M:%S\"  # replace with your timestamp format\n",
    "\n",
    "# Function to check timestamp format\n",
    "def check_format(timestamp):\n",
    "    try:\n",
    "        datetime.strptime(str(timestamp), timestamp_format)\n",
    "        return True\n",
    "    except ValueError:\n",
    "        return False\n",
    "\n",
    "# Apply the function to your timestamp column\n",
    "timestamps_list = df['Timestamp'].apply(check_format)\n",
    "\n",
    "timestamps_list.value_counts()\n",
    "\n",
    "##### ALL TIMESTAMPS ARE CORRECT #####"
   ]
  },
  {
   "cell_type": "code",
   "execution_count": 5,
   "metadata": {},
   "outputs": [
    {
     "name": "stdout",
     "output_type": "stream",
     "text": [
      "2021-01-14 16:43:18\n",
      "2023-12-09 21:01:00\n",
      "Time difference between most recent and oldest timestamp: 1059 days 04:17:42\n"
     ]
    }
   ],
   "source": [
    "# Earliest timestamp\n",
    "print(df[\"Timestamp\"].min())\n",
    "\n",
    "# Latest timestamp\n",
    "print(df[\"Timestamp\"].max())\n",
    "\n",
    "# Calculate the time difference between most recent and oldest timestamp\n",
    "time_diff = df[\"Timestamp\"].max() - df[\"Timestamp\"].min()\n",
    "print(f\"Time difference between most recent and oldest timestamp: {time_diff}\")"
   ]
  },
  {
   "cell_type": "code",
   "execution_count": 6,
   "metadata": {},
   "outputs": [],
   "source": [
    "# Sort by timestamp, and reset index\n",
    "df = df.sort_values(by=\"Timestamp\").reset_index(drop=True)"
   ]
  },
  {
   "cell_type": "code",
   "execution_count": 7,
   "metadata": {},
   "outputs": [],
   "source": [
    "# Drop rows\n",
    "df = df[df[\"Activity\"] != \"Aarhus Ud låge\"]"
   ]
  },
  {
   "cell_type": "code",
   "execution_count": 8,
   "metadata": {},
   "outputs": [],
   "source": [
    "# Replace rows with \"Aarhus Ind låge\" with \"Aarhus\"\n",
    "df[\"Activity\"] = df[\"Activity\"].replace(\"Aarhus C Indgang\", \"Aarhus City Indgang\")\n",
    "df[\"Activity\"] = df[\"Activity\"].replace(\"Aarhus Indgang\", \"Aarhus Nord Indgang\")\n",
    "df[\"Activity\"] = df[\"Activity\"].replace(\"Hvidovre\", \"Hvidovre Indgang\")"
   ]
  },
  {
   "cell_type": "code",
   "execution_count": 9,
   "metadata": {},
   "outputs": [],
   "source": [
    "# Drop first 6 row, as these seem odd and perhaps are corrupt\n",
    "df = df[6:]"
   ]
  },
  {
   "cell_type": "code",
   "execution_count": 10,
   "metadata": {},
   "outputs": [],
   "source": [
    "# Make a column for each unique value of \"Activity\"\n",
    "df = pd.concat([df, pd.get_dummies(df['Activity'], dtype=int)], axis=1)\n",
    "\n",
    "# Drop the \"Activity\" column\n",
    "df = df.drop(columns=\"Activity\")"
   ]
  },
  {
   "cell_type": "code",
   "execution_count": null,
   "metadata": {},
   "outputs": [],
   "source": [
    "df[\"CustomerActivityLinkID\"].unique() # Drop\n",
    "df[\"Type\"].unique() # Drop\n",
    "df[\"Status\"].value_counts() # Drop\n",
    "df[\"CustomerContractLinkID\"].unique() # Drop\n",
    "df[\"Comment\"].value_counts() # Drop\n",
    "df[\"AttendanceLocationName\"].unique() # Drop\n",
    "df[\"CustomerID\"].unique() # Drop\n",
    "df[\"AttendanceLocationType\"].unique()\n",
    "df[\"Id\"].unique() # Drop\n",
    "\n",
    "# Drop the columns\n",
    "df.drop(columns=[\"CustomerActivityLinkID\", \"Type\", \"Status\", \"CustomerContractLinkID\", \"Comment\", \"AttendanceLocationName\", \"CustomerID\", \"AttendanceLocationType\", \"Id\"], inplace=True)"
   ]
  },
  {
   "cell_type": "code",
   "execution_count": 11,
   "metadata": {},
   "outputs": [],
   "source": [
    "# Save the data\n",
    "df.to_csv('../data/boulders/AttendanceHistorys_clean.csv', index=False, sep=\";\")"
   ]
  }
 ],
 "metadata": {
  "kernelspec": {
   "display_name": "venv",
   "language": "python",
   "name": "python3"
  },
  "language_info": {
   "codemirror_mode": {
    "name": "ipython",
    "version": 3
   },
   "file_extension": ".py",
   "mimetype": "text/x-python",
   "name": "python",
   "nbconvert_exporter": "python",
   "pygments_lexer": "ipython3",
   "version": "3.10.12"
  }
 },
 "nbformat": 4,
 "nbformat_minor": 2
}
